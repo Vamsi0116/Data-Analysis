{
  "nbformat": 4,
  "nbformat_minor": 0,
  "metadata": {
    "colab": {
      "provenance": []
    },
    "kernelspec": {
      "name": "python3",
      "display_name": "Python 3"
    },
    "language_info": {
      "name": "python"
    }
  },
  "cells": [
    {
      "cell_type": "code",
      "execution_count": null,
      "metadata": {
        "id": "QuXH2HOnCg-5"
      },
      "outputs": [],
      "source": [
        "#importing\n",
        "import numpy as np\n"
      ]
    },
    {
      "cell_type": "code",
      "source": [
        "\n",
        "import numpy as np\n",
        "a=np.ones((8,4))\n",
        "print(a)"
      ],
      "metadata": {
        "colab": {
          "base_uri": "https://localhost:8080/"
        },
        "id": "y-lE9lAFDUqy",
        "outputId": "29bada29-07e7-4a86-fb53-338d98224898"
      },
      "execution_count": null,
      "outputs": [
        {
          "output_type": "stream",
          "name": "stdout",
          "text": [
            "[[1. 1. 1. 1.]\n",
            " [1. 1. 1. 1.]\n",
            " [1. 1. 1. 1.]\n",
            " [1. 1. 1. 1.]\n",
            " [1. 1. 1. 1.]\n",
            " [1. 1. 1. 1.]\n",
            " [1. 1. 1. 1.]\n",
            " [1. 1. 1. 1.]]\n"
          ]
        }
      ]
    },
    {
      "cell_type": "code",
      "source": [
        "\n",
        "\n",
        "#random module is sub-package of numpy\n",
        "A=np.random.rand(1)\n",
        "print(A)\n"
      ],
      "metadata": {
        "colab": {
          "base_uri": "https://localhost:8080/"
        },
        "id": "kTtSGmBjDU1T",
        "outputId": "52e76e0b-ca6d-4ff4-96ab-0faf95fe65b2"
      },
      "execution_count": null,
      "outputs": [
        {
          "output_type": "stream",
          "name": "stdout",
          "text": [
            "[0.72911611]\n"
          ]
        }
      ]
    },
    {
      "cell_type": "code",
      "source": [
        "\n",
        "A=np.random.rand(8,4)   #rand-range is between 0 and 1\n",
        "print(A)"
      ],
      "metadata": {
        "colab": {
          "base_uri": "https://localhost:8080/"
        },
        "id": "mAepyX3cDU9d",
        "outputId": "1e1fb830-0e26-44da-9d67-54e965c95f18"
      },
      "execution_count": null,
      "outputs": [
        {
          "output_type": "stream",
          "name": "stdout",
          "text": [
            "[[0.47327757 0.19508547 0.97246655 0.22713543]\n",
            " [0.04355172 0.99084258 0.60101876 0.58101308]\n",
            " [0.20987686 0.54793132 0.00636699 0.17899683]\n",
            " [0.5582956  0.34159369 0.75108719 0.74203022]\n",
            " [0.26240822 0.45860816 0.65633785 0.98953096]\n",
            " [0.12288371 0.31581847 0.97326081 0.07912814]\n",
            " [0.07991296 0.95449983 0.84746945 0.16063933]\n",
            " [0.14348951 0.85723005 0.46145428 0.28166061]]\n"
          ]
        }
      ]
    },
    {
      "cell_type": "code",
      "source": [
        "\n",
        "A=np.floor(10*np.random.rand(8,4))   #rand-range is between 0 and 1\n",
        "print(A)"
      ],
      "metadata": {
        "colab": {
          "base_uri": "https://localhost:8080/"
        },
        "id": "T7YlPXj2EaO8",
        "outputId": "e555d5d5-352f-4e6a-e663-0e78b4d5fdba"
      },
      "execution_count": null,
      "outputs": [
        {
          "output_type": "stream",
          "name": "stdout",
          "text": [
            "[[6. 8. 1. 0.]\n",
            " [0. 2. 5. 3.]\n",
            " [2. 8. 7. 8.]\n",
            " [1. 1. 6. 4.]\n",
            " [4. 1. 7. 7.]\n",
            " [7. 6. 4. 9.]\n",
            " [7. 9. 9. 3.]\n",
            " [2. 8. 7. 3.]]\n"
          ]
        }
      ]
    },
    {
      "cell_type": "code",
      "source": [
        "\n",
        "A=np.arange(1,33).reshape(8,4)\n",
        "print(A)\n"
      ],
      "metadata": {
        "colab": {
          "base_uri": "https://localhost:8080/"
        },
        "id": "w0-R4FLDEbUY",
        "outputId": "c83d8d97-1f0c-4513-9ab8-5d1af2dd655c"
      },
      "execution_count": null,
      "outputs": [
        {
          "output_type": "stream",
          "name": "stdout",
          "text": [
            "[[ 1  2  3  4]\n",
            " [ 5  6  7  8]\n",
            " [ 9 10 11 12]\n",
            " [13 14 15 16]\n",
            " [17 18 19 20]\n",
            " [21 22 23 24]\n",
            " [25 26 27 28]\n",
            " [29 30 31 32]]\n"
          ]
        }
      ]
    },
    {
      "cell_type": "code",
      "source": [
        "#Spliting of an array\n",
        "print(np.vsplit(A,4))"
      ],
      "metadata": {
        "colab": {
          "base_uri": "https://localhost:8080/"
        },
        "id": "UojgyF_0GdYa",
        "outputId": "c247a789-702c-461d-8d52-78d15dc26012"
      },
      "execution_count": null,
      "outputs": [
        {
          "output_type": "stream",
          "name": "stdout",
          "text": [
            "[array([[1, 2, 3, 4],\n",
            "       [5, 6, 7, 8]]), array([[ 9, 10, 11, 12],\n",
            "       [13, 14, 15, 16]]), array([[17, 18, 19, 20],\n",
            "       [21, 22, 23, 24]]), array([[25, 26, 27, 28],\n",
            "       [29, 30, 31, 32]])]\n"
          ]
        }
      ]
    },
    {
      "cell_type": "code",
      "source": [
        "\n",
        "print(np.vsplit(A,4))"
      ],
      "metadata": {
        "colab": {
          "base_uri": "https://localhost:8080/"
        },
        "id": "TJTMZ7OUGeZn",
        "outputId": "137440b8-18e2-47ba-aa39-0260841e7ce1"
      },
      "execution_count": null,
      "outputs": [
        {
          "output_type": "stream",
          "name": "stdout",
          "text": [
            "[array([[1, 2, 3, 4],\n",
            "       [5, 6, 7, 8]]), array([[ 9, 10, 11, 12],\n",
            "       [13, 14, 15, 16]]), array([[17, 18, 19, 20],\n",
            "       [21, 22, 23, 24]]), array([[25, 26, 27, 28],\n",
            "       [29, 30, 31, 32]])]\n"
          ]
        }
      ]
    },
    {
      "cell_type": "code",
      "source": [
        "print(np.vsplit(A,(3,5)))     #split it after 3rd row and 5th row"
      ],
      "metadata": {
        "colab": {
          "base_uri": "https://localhost:8080/"
        },
        "id": "Y34WBCnrGkhl",
        "outputId": "f33f8250-ea5e-4ec1-bcdc-4bdef6891e6c"
      },
      "execution_count": null,
      "outputs": [
        {
          "output_type": "stream",
          "name": "stdout",
          "text": [
            "[array([[ 1,  2,  3,  4],\n",
            "       [ 5,  6,  7,  8],\n",
            "       [ 9, 10, 11, 12]]), array([[13, 14, 15, 16],\n",
            "       [17, 18, 19, 20]]), array([[21, 22, 23, 24],\n",
            "       [25, 26, 27, 28],\n",
            "       [29, 30, 31, 32]])]\n"
          ]
        }
      ]
    },
    {
      "cell_type": "code",
      "source": [
        "\n",
        "print(np.vsplit(A,(3,6)))     #split it after 3rd row and 6th row"
      ],
      "metadata": {
        "colab": {
          "base_uri": "https://localhost:8080/"
        },
        "id": "4sedBwBOGm0P",
        "outputId": "49013104-5f00-4912-cdc9-13a08797c396"
      },
      "execution_count": null,
      "outputs": [
        {
          "output_type": "stream",
          "name": "stdout",
          "text": [
            "[array([[ 1,  2,  3,  4],\n",
            "       [ 5,  6,  7,  8],\n",
            "       [ 9, 10, 11, 12]]), array([[13, 14, 15, 16],\n",
            "       [17, 18, 19, 20],\n",
            "       [21, 22, 23, 24]]), array([[25, 26, 27, 28],\n",
            "       [29, 30, 31, 32]])]\n"
          ]
        }
      ]
    },
    {
      "cell_type": "code",
      "source": [
        "\n",
        "A=np.arange(1,33).reshape(4,8)\n",
        "print(A)"
      ],
      "metadata": {
        "colab": {
          "base_uri": "https://localhost:8080/"
        },
        "id": "3hVUonkKGm5u",
        "outputId": "31164355-00b9-497b-fbe1-022bda96189b"
      },
      "execution_count": null,
      "outputs": [
        {
          "output_type": "stream",
          "name": "stdout",
          "text": [
            "[[ 1  2  3  4  5  6  7  8]\n",
            " [ 9 10 11 12 13 14 15 16]\n",
            " [17 18 19 20 21 22 23 24]\n",
            " [25 26 27 28 29 30 31 32]]\n"
          ]
        }
      ]
    },
    {
      "cell_type": "code",
      "source": [
        "\n",
        "\n",
        "print(np.hsplit(A,4))"
      ],
      "metadata": {
        "colab": {
          "base_uri": "https://localhost:8080/"
        },
        "id": "I67I1yliGqgr",
        "outputId": "629db088-38a3-491a-c62d-adaf024c9fef"
      },
      "execution_count": null,
      "outputs": [
        {
          "output_type": "stream",
          "name": "stdout",
          "text": [
            "[array([[ 1,  2],\n",
            "       [ 9, 10],\n",
            "       [17, 18],\n",
            "       [25, 26]]), array([[ 3,  4],\n",
            "       [11, 12],\n",
            "       [19, 20],\n",
            "       [27, 28]]), array([[ 5,  6],\n",
            "       [13, 14],\n",
            "       [21, 22],\n",
            "       [29, 30]]), array([[ 7,  8],\n",
            "       [15, 16],\n",
            "       [23, 24],\n",
            "       [31, 32]])]\n"
          ]
        }
      ]
    },
    {
      "cell_type": "code",
      "source": [
        "\n",
        "print(np.hsplit(A,(3,4)))"
      ],
      "metadata": {
        "colab": {
          "base_uri": "https://localhost:8080/"
        },
        "id": "YammY6soGuIG",
        "outputId": "c00703a9-0498-4791-e5f1-58647138a2bf"
      },
      "execution_count": null,
      "outputs": [
        {
          "output_type": "stream",
          "name": "stdout",
          "text": [
            "[array([[ 1,  2,  3],\n",
            "       [ 9, 10, 11],\n",
            "       [17, 18, 19],\n",
            "       [25, 26, 27]]), array([[ 4],\n",
            "       [12],\n",
            "       [20],\n",
            "       [28]]), array([[ 5,  6,  7,  8],\n",
            "       [13, 14, 15, 16],\n",
            "       [21, 22, 23, 24],\n",
            "       [29, 30, 31, 32]])]\n"
          ]
        }
      ]
    },
    {
      "cell_type": "code",
      "source": [
        "\n",
        "np.pi"
      ],
      "metadata": {
        "colab": {
          "base_uri": "https://localhost:8080/"
        },
        "id": "ozoZQaFBGyNL",
        "outputId": "bb1444d8-a435-457c-d5db-eed025f75455"
      },
      "execution_count": null,
      "outputs": [
        {
          "output_type": "execute_result",
          "data": {
            "text/plain": [
              "3.141592653589793"
            ]
          },
          "metadata": {},
          "execution_count": 14
        }
      ]
    },
    {
      "cell_type": "code",
      "source": [
        "\n",
        "A=[np.pi/4,np.pi/3,np.pi/2,np.pi]\n",
        "print(A)"
      ],
      "metadata": {
        "colab": {
          "base_uri": "https://localhost:8080/"
        },
        "id": "X5doKEOUHNDR",
        "outputId": "b6e3d8ec-d1fd-4576-f13a-84ea12148294"
      },
      "execution_count": null,
      "outputs": [
        {
          "output_type": "stream",
          "name": "stdout",
          "text": [
            "[0.7853981633974483, 1.0471975511965976, 1.5707963267948966, 3.141592653589793]\n"
          ]
        }
      ]
    },
    {
      "cell_type": "code",
      "source": [
        "\n",
        "np.rad2deg(A)     #convert radians to degrees"
      ],
      "metadata": {
        "colab": {
          "base_uri": "https://localhost:8080/"
        },
        "id": "2dQjDnzPHQ6z",
        "outputId": "40887166-0a65-4169-89bd-11e727fef066"
      },
      "execution_count": null,
      "outputs": [
        {
          "output_type": "execute_result",
          "data": {
            "text/plain": [
              "array([ 45.,  60.,  90., 180.])"
            ]
          },
          "metadata": {},
          "execution_count": 16
        }
      ]
    },
    {
      "cell_type": "code",
      "source": [
        "\n",
        "A=[45,60,90,180]\n",
        "np.deg2rad(A)"
      ],
      "metadata": {
        "colab": {
          "base_uri": "https://localhost:8080/"
        },
        "id": "RhX4rKcpHT70",
        "outputId": "fd7126b9-8958-47b6-cce7-1366ad1fb1ce"
      },
      "execution_count": null,
      "outputs": [
        {
          "output_type": "execute_result",
          "data": {
            "text/plain": [
              "array([0.78539816, 1.04719755, 1.57079633, 3.14159265])"
            ]
          },
          "metadata": {},
          "execution_count": 17
        }
      ]
    },
    {
      "cell_type": "code",
      "source": [
        "\n",
        "A=np.sin(1)\n",
        "print(A)\n",
        "B=np.cos(1)\n",
        "print(B)\n",
        "C=np.tan(1)\n",
        "print(C)"
      ],
      "metadata": {
        "colab": {
          "base_uri": "https://localhost:8080/"
        },
        "id": "kbNyBqZfHUwv",
        "outputId": "6b45f934-b41b-40a2-c48e-724bcb822936"
      },
      "execution_count": null,
      "outputs": [
        {
          "output_type": "stream",
          "name": "stdout",
          "text": [
            "0.8414709848078965\n",
            "0.5403023058681398\n",
            "1.5574077246549023\n"
          ]
        }
      ]
    },
    {
      "cell_type": "code",
      "source": [
        "\n",
        "st=np.array([23,45,67,89,21,34])"
      ],
      "metadata": {
        "id": "xu1w8GfYHZpT"
      },
      "execution_count": null,
      "outputs": []
    },
    {
      "cell_type": "code",
      "source": [
        "\n",
        "np.mean(st)"
      ],
      "metadata": {
        "colab": {
          "base_uri": "https://localhost:8080/"
        },
        "id": "SRQSx5oTHcPO",
        "outputId": "bbe2f2c5-2b02-4f63-df72-ab177830e3be"
      },
      "execution_count": null,
      "outputs": [
        {
          "output_type": "execute_result",
          "data": {
            "text/plain": [
              "46.5"
            ]
          },
          "metadata": {},
          "execution_count": 20
        }
      ]
    },
    {
      "cell_type": "code",
      "source": [
        "\n",
        "np.median(st)"
      ],
      "metadata": {
        "colab": {
          "base_uri": "https://localhost:8080/"
        },
        "id": "1ypu4AzFHfHk",
        "outputId": "63bb26dc-f915-4ced-ac51-7d275305fe6a"
      },
      "execution_count": null,
      "outputs": [
        {
          "output_type": "execute_result",
          "data": {
            "text/plain": [
              "39.5"
            ]
          },
          "metadata": {},
          "execution_count": 21
        }
      ]
    },
    {
      "cell_type": "code",
      "source": [
        "\n",
        "\n",
        "np.std(st)"
      ],
      "metadata": {
        "colab": {
          "base_uri": "https://localhost:8080/"
        },
        "id": "MbML1u57HhJF",
        "outputId": "1a101c02-49e0-4d04-8fef-cd063b32ab8f"
      },
      "execution_count": null,
      "outputs": [
        {
          "output_type": "execute_result",
          "data": {
            "text/plain": [
              "24.452334585202017"
            ]
          },
          "metadata": {},
          "execution_count": 22
        }
      ]
    },
    {
      "cell_type": "code",
      "source": [
        "\n",
        "np.var(st)"
      ],
      "metadata": {
        "colab": {
          "base_uri": "https://localhost:8080/"
        },
        "id": "jnS1die-Q7z8",
        "outputId": "4e2008c1-d42d-41a4-e44b-459cb41f0764"
      },
      "execution_count": null,
      "outputs": [
        {
          "output_type": "execute_result",
          "data": {
            "text/plain": [
              "597.9166666666666"
            ]
          },
          "metadata": {},
          "execution_count": 23
        }
      ]
    },
    {
      "cell_type": "code",
      "source": [
        "C=np.arange(1,5).reshape(2,2)\n",
        "print(C)"
      ],
      "metadata": {
        "colab": {
          "base_uri": "https://localhost:8080/"
        },
        "id": "McCtezlCQ_wn",
        "outputId": "80a16677-7afd-4e48-bbd6-83aff4abf3fc"
      },
      "execution_count": null,
      "outputs": [
        {
          "output_type": "stream",
          "name": "stdout",
          "text": [
            "[[1 2]\n",
            " [3 4]]\n"
          ]
        }
      ]
    },
    {
      "cell_type": "code",
      "source": [
        "\n",
        "np.linalg.inv(C)    #Sub-package of numpy"
      ],
      "metadata": {
        "colab": {
          "base_uri": "https://localhost:8080/"
        },
        "id": "BukR6oXCRCLJ",
        "outputId": "c6e76697-7cc0-4d13-f4f3-c19b25fd723e"
      },
      "execution_count": null,
      "outputs": [
        {
          "output_type": "execute_result",
          "data": {
            "text/plain": [
              "array([[-2. ,  1. ],\n",
              "       [ 1.5, -0.5]])"
            ]
          },
          "metadata": {},
          "execution_count": 25
        }
      ]
    },
    {
      "cell_type": "code",
      "source": [
        "C=np.arange(1,25).reshape(6,4)\n",
        "print(C)\n",
        "print(np.argmax(C))\n"
      ],
      "metadata": {
        "colab": {
          "base_uri": "https://localhost:8080/"
        },
        "id": "N8p-ByAeRE0Y",
        "outputId": "97b635cb-72ff-4875-d5d6-ed4cb4722708"
      },
      "execution_count": null,
      "outputs": [
        {
          "output_type": "stream",
          "name": "stdout",
          "text": [
            "[[ 1  2  3  4]\n",
            " [ 5  6  7  8]\n",
            " [ 9 10 11 12]\n",
            " [13 14 15 16]\n",
            " [17 18 19 20]\n",
            " [21 22 23 24]]\n",
            "23\n"
          ]
        }
      ]
    },
    {
      "cell_type": "code",
      "source": [
        "C=np.floor(10*np.random.rand(24).reshape(6,4))\n",
        "print(C)\n",
        "print(np.argmax(C))"
      ],
      "metadata": {
        "colab": {
          "base_uri": "https://localhost:8080/"
        },
        "id": "N39tHQZgRHDH",
        "outputId": "72801cbb-3dab-43d5-93eb-8a32fc1cdde3"
      },
      "execution_count": null,
      "outputs": [
        {
          "output_type": "stream",
          "name": "stdout",
          "text": [
            "[[3. 1. 6. 1.]\n",
            " [2. 1. 1. 0.]\n",
            " [1. 1. 1. 5.]\n",
            " [2. 3. 8. 8.]\n",
            " [9. 2. 5. 6.]\n",
            " [4. 2. 5. 8.]]\n",
            "16\n"
          ]
        }
      ]
    },
    {
      "cell_type": "code",
      "source": [
        "C=10*np.random.rand(24).reshape(6,4)\n",
        "print(C)\n",
        "print(np.argmax(C))"
      ],
      "metadata": {
        "colab": {
          "base_uri": "https://localhost:8080/"
        },
        "id": "102VgpNQRJe-",
        "outputId": "9299b6e6-0eb4-4ca4-901e-d6e530212cd4"
      },
      "execution_count": null,
      "outputs": [
        {
          "output_type": "stream",
          "name": "stdout",
          "text": [
            "[[4.59402203 4.97935933 1.84340712 4.09000458]\n",
            " [7.59242273 5.64136957 6.62199966 6.08600954]\n",
            " [8.36220192 7.24410588 7.4296069  8.48904129]\n",
            " [8.23927613 1.6453869  9.38729373 5.90952424]\n",
            " [7.3337213  2.64615766 1.95742458 5.95253486]\n",
            " [8.10867734 3.09847901 0.38821721 3.21720712]]\n",
            "14\n"
          ]
        }
      ]
    },
    {
      "cell_type": "code",
      "source": [
        "\n",
        "print(np.argmax(C,axis=1))  #rows"
      ],
      "metadata": {
        "colab": {
          "base_uri": "https://localhost:8080/"
        },
        "id": "SVzXT6CwTOwR",
        "outputId": "57c844b8-9a12-4408-db2d-cb0dfb58807e"
      },
      "execution_count": null,
      "outputs": [
        {
          "output_type": "stream",
          "name": "stdout",
          "text": [
            "[1 0 3 2 0 0]\n"
          ]
        }
      ]
    },
    {
      "cell_type": "code",
      "source": [
        "\n",
        "print(np.argmax(C,axis=0))   #columns"
      ],
      "metadata": {
        "colab": {
          "base_uri": "https://localhost:8080/"
        },
        "id": "JwNasNIiTT3T",
        "outputId": "61b18297-2acd-45bd-f625-13f31c0be736"
      },
      "execution_count": null,
      "outputs": [
        {
          "output_type": "stream",
          "name": "stdout",
          "text": [
            "[2 2 3 2]\n"
          ]
        }
      ]
    },
    {
      "cell_type": "code",
      "source": [
        "print(np.argmin(C))"
      ],
      "metadata": {
        "colab": {
          "base_uri": "https://localhost:8080/"
        },
        "id": "TWeKDwhTTWTA",
        "outputId": "90d75f4d-b2b2-42ba-df1b-ef056e849da1"
      },
      "execution_count": null,
      "outputs": [
        {
          "output_type": "stream",
          "name": "stdout",
          "text": [
            "22\n"
          ]
        }
      ]
    },
    {
      "cell_type": "code",
      "source": [
        "\n",
        "print(np.argmin(C,axis=0))"
      ],
      "metadata": {
        "colab": {
          "base_uri": "https://localhost:8080/"
        },
        "id": "Luc21TitTXiu",
        "outputId": "3b0dab45-3ab0-4528-86e7-f8f52e6327c3"
      },
      "execution_count": null,
      "outputs": [
        {
          "output_type": "stream",
          "name": "stdout",
          "text": [
            "[0 3 5 5]\n"
          ]
        }
      ]
    },
    {
      "cell_type": "code",
      "source": [
        "print(np.argmin(C,axis=1))"
      ],
      "metadata": {
        "colab": {
          "base_uri": "https://localhost:8080/"
        },
        "id": "2rsNkyLYTXmv",
        "outputId": "2e17372b-f6d3-41c9-8acf-00b6eaecb0a8"
      },
      "execution_count": null,
      "outputs": [
        {
          "output_type": "stream",
          "name": "stdout",
          "text": [
            "[2 1 1 1 2 2]\n"
          ]
        }
      ]
    },
    {
      "cell_type": "code",
      "source": [
        "#find the indexs where the values are even:\n",
        "a=np.array([34,56,7,17,88,91])\n",
        "print(np.where(a%2==0))"
      ],
      "metadata": {
        "colab": {
          "base_uri": "https://localhost:8080/"
        },
        "id": "m8MDmuPkTXq_",
        "outputId": "a1f613c1-ca3d-4145-e7e7-e5362ee07b87"
      },
      "execution_count": null,
      "outputs": [
        {
          "output_type": "stream",
          "name": "stdout",
          "text": [
            "(array([0, 1, 4]),)\n"
          ]
        }
      ]
    },
    {
      "cell_type": "code",
      "source": [
        "\n",
        "#used only for already sorted list:\n",
        "a=np.array([6,7,8,9,10])\n",
        "x=np.searchsorted(a,10)\n",
        "print(x)"
      ],
      "metadata": {
        "colab": {
          "base_uri": "https://localhost:8080/"
        },
        "id": "gJTSZKJhTXuu",
        "outputId": "f870be47-4497-41d4-f918-442cdc46d495"
      },
      "execution_count": null,
      "outputs": [
        {
          "output_type": "stream",
          "name": "stdout",
          "text": [
            "4\n"
          ]
        }
      ]
    },
    {
      "cell_type": "code",
      "source": [
        "#used only for already unsorted list:\n",
        "a=np.array([6,2,7,9,8,9,10])\n",
        "x=np.searchsorted(a,3)       #it is not appilicable for unsorted list\n",
        "print(x)"
      ],
      "metadata": {
        "colab": {
          "base_uri": "https://localhost:8080/"
        },
        "id": "75A89vb5TXyb",
        "outputId": "a2c88fb1-c8a7-4a37-e9c3-7489ac90902b"
      },
      "execution_count": null,
      "outputs": [
        {
          "output_type": "stream",
          "name": "stdout",
          "text": [
            "2\n"
          ]
        }
      ]
    },
    {
      "cell_type": "code",
      "source": [
        "#find the indexs which are divisible by 6\n",
        "a=np.array([24,16,7,17,54,60])\n",
        "print(np.where(a%6==0))\n",
        "print(a)"
      ],
      "metadata": {
        "colab": {
          "base_uri": "https://localhost:8080/"
        },
        "id": "KFwF_k0FTX1v",
        "outputId": "7e82745e-0616-448f-f9ea-d1fefad8da83"
      },
      "execution_count": null,
      "outputs": [
        {
          "output_type": "stream",
          "name": "stdout",
          "text": [
            "(array([0, 4, 5]),)\n",
            "[24 16  7 17 54 60]\n"
          ]
        }
      ]
    },
    {
      "cell_type": "code",
      "source": [
        "\n",
        "#sorting array\n",
        "arr=np.array(['banana','cherry','apple'])\n",
        "print(np.sort(arr))"
      ],
      "metadata": {
        "colab": {
          "base_uri": "https://localhost:8080/"
        },
        "id": "r3lxItBQTX4-",
        "outputId": "608edbe9-b67a-4549-b638-a33f71aeb10d"
      },
      "execution_count": null,
      "outputs": [
        {
          "output_type": "stream",
          "name": "stdout",
          "text": [
            "['apple' 'banana' 'cherry']\n"
          ]
        }
      ]
    },
    {
      "cell_type": "code",
      "source": [
        "\n",
        "arr=np.array([True,False,True])   #FALSE -0 ,TRUE-0\n",
        "print(np.sort(arr))\n"
      ],
      "metadata": {
        "colab": {
          "base_uri": "https://localhost:8080/"
        },
        "id": "T0tlxUKbTX8Q",
        "outputId": "6b4b3e64-0746-4ff6-ebce-6d2705bc33b9"
      },
      "execution_count": null,
      "outputs": [
        {
          "output_type": "stream",
          "name": "stdout",
          "text": [
            "[False  True  True]\n"
          ]
        }
      ]
    },
    {
      "cell_type": "code",
      "source": [
        "#2d sort -sorting happens within row\n",
        "arr=np.array([[3,2,4],[5,0,1]])\n",
        "print(np.sort(arr))\n"
      ],
      "metadata": {
        "id": "hyAo1L9ATX_h"
      },
      "execution_count": null,
      "outputs": []
    },
    {
      "cell_type": "code",
      "source": [
        "\n",
        "#array filter\n",
        "arr=np.array([40,42,50,44,67,78])\n",
        "x=[True,False,True,False,True,True]    #filter list\n",
        "newarr=arr[x]\n",
        "print(newarr)"
      ],
      "metadata": {
        "colab": {
          "base_uri": "https://localhost:8080/"
        },
        "id": "4q4UvqhhTYCo",
        "outputId": "a80ed07a-9a42-4ea6-b18b-dd3f3faa5461"
      },
      "execution_count": null,
      "outputs": [
        {
          "output_type": "stream",
          "name": "stdout",
          "text": [
            "[40 50 67 78]\n"
          ]
        }
      ]
    },
    {
      "cell_type": "code",
      "source": [
        "arr=np.array([40,42,50,44,67,78])  #filter may be list or array\n",
        "filt=np.where(arr%2==0)\n",
        "print(filt)"
      ],
      "metadata": {
        "colab": {
          "base_uri": "https://localhost:8080/"
        },
        "id": "LbDe0A6UTYGI",
        "outputId": "26a07808-92d3-4a3e-e7a9-83678ab1b01a"
      },
      "execution_count": null,
      "outputs": [
        {
          "output_type": "stream",
          "name": "stdout",
          "text": [
            "(array([0, 1, 2, 3, 5]),)\n"
          ]
        }
      ]
    },
    {
      "cell_type": "code",
      "source": [
        "names=np.array([\"Sasi\",\"Prasanna\",\"Akhila\",\"Lavanya\",\"Jaya\",\"Dharani\"])   #Zip function is used to combine two or more arrays and lists\n",
        "initals=np.array([\"P\",\"N\",\"T\",\"P\",\"T\",\"K\"])\n",
        "for i ,j in zip(initals,names):\n",
        "  print(i,\".\",j)"
      ],
      "metadata": {
        "colab": {
          "base_uri": "https://localhost:8080/"
        },
        "id": "yA06-rjpTYI0",
        "outputId": "abdd8d52-784d-4ad6-9890-8a71cdaa897d"
      },
      "execution_count": null,
      "outputs": [
        {
          "output_type": "stream",
          "name": "stdout",
          "text": [
            "P . Sasi\n",
            "N . Prasanna\n",
            "T . Akhila\n",
            "P . Lavanya\n",
            "T . Jaya\n",
            "K . Dharani\n"
          ]
        }
      ]
    },
    {
      "cell_type": "code",
      "source": [
        "names=np.array([\"Sasi\",\"Prasanna\",\"Akhila\",\"Lavanya\",\"Jaya\",\"Dharani\"])   #Zip function is used to combine two or more arrays and lists\n",
        "initals=np.array([\"P\",\"N\",\"T\",\"P\",\"T\",\"K\"])\n",
        "rollno=np.array([\"5b0\",\"5a6\",\"5c0\",\"5b1\",\"560\",\"5b2\"])\n",
        "for i,j,k in zip(initals,names,rollno):\n",
        "  print(i,\".\",j,\".\",k)\n"
      ],
      "metadata": {
        "colab": {
          "base_uri": "https://localhost:8080/"
        },
        "id": "ALUfvPeBTYMt",
        "outputId": "92f637bb-6ae9-4b6e-ed3a-feca7e217da7"
      },
      "execution_count": null,
      "outputs": [
        {
          "output_type": "stream",
          "name": "stdout",
          "text": [
            "P . Sasi . 5b0\n",
            "N . Prasanna . 5a6\n",
            "T . Akhila . 5c0\n",
            "P . Lavanya . 5b1\n",
            "T . Jaya . 560\n",
            "K . Dharani . 5b2\n"
          ]
        }
      ]
    },
    {
      "cell_type": "code",
      "source": [
        "a1=np.array([10,20,30,40,50,60])\n",
        "a2=np.array([20,21,22,23,24,25])\n",
        "a=np.multiply(a1,a2)\n",
        "print(a)\n",
        "b=np.divide(a1,a2)\n",
        "print(b)\n",
        "c=np.mod(a1,a2)\n",
        "print(c)\n",
        "d=np.divmod(a1,a2)\n",
        "print(d)"
      ],
      "metadata": {
        "colab": {
          "base_uri": "https://localhost:8080/"
        },
        "id": "-c5NPHkuTYSc",
        "outputId": "d96998d9-e393-490a-dfcd-f48a31efc1ce"
      },
      "execution_count": null,
      "outputs": [
        {
          "output_type": "stream",
          "name": "stdout",
          "text": [
            "[ 200  420  660  920 1200 1500]\n",
            "[0.5        0.95238095 1.36363636 1.73913043 2.08333333 2.4       ]\n",
            "[10 20  8 17  2 10]\n",
            "(array([0, 0, 1, 1, 2, 2]), array([10, 20,  8, 17,  2, 10]))\n"
          ]
        }
      ]
    },
    {
      "cell_type": "code",
      "source": [
        "a1=np.array([10,20,30,40,50,60])\n",
        "a2=np.array([20,21,22,23,24,25])\n",
        "a=np.multiply(a1,a2)\n",
        "print(a)"
      ],
      "metadata": {
        "colab": {
          "base_uri": "https://localhost:8080/"
        },
        "id": "d4WXWnhgTYWP",
        "outputId": "63eeb10c-2eeb-45ec-9f93-f86a389510e0"
      },
      "execution_count": null,
      "outputs": [
        {
          "output_type": "stream",
          "name": "stdout",
          "text": [
            "[ 200  420  660  920 1200 1500]\n"
          ]
        }
      ]
    },
    {
      "cell_type": "code",
      "source": [
        "a1=np.array([10,20,30,40,50,60])\n",
        "a2=np.array([20,21,22,23,24,25])\n",
        "b=np.divide(a1,a2)\n",
        "print(b)"
      ],
      "metadata": {
        "colab": {
          "base_uri": "https://localhost:8080/"
        },
        "id": "rZ6vRlbETYZY",
        "outputId": "f968cc20-8208-4ef3-fb89-91c51bd2dcd2"
      },
      "execution_count": null,
      "outputs": [
        {
          "output_type": "stream",
          "name": "stdout",
          "text": [
            "[0.5        0.95238095 1.36363636 1.73913043 2.08333333 2.4       ]\n"
          ]
        }
      ]
    },
    {
      "cell_type": "code",
      "source": [
        "a1=np.array([10,20,30,40,50,60])\n",
        "a2=np.array([20,21,22,23,24,25])\n",
        "c=np.mod(a1,a2)\n",
        "print(c)"
      ],
      "metadata": {
        "colab": {
          "base_uri": "https://localhost:8080/"
        },
        "id": "NBRX29YSTYca",
        "outputId": "bf761d50-b263-4480-d6af-8f29c1da62c8"
      },
      "execution_count": null,
      "outputs": [
        {
          "output_type": "stream",
          "name": "stdout",
          "text": [
            "[10 20  8 17  2 10]\n"
          ]
        }
      ]
    },
    {
      "cell_type": "code",
      "source": [
        "\n",
        "a1=np.array([10,20,30,40,50,60])\n",
        "a2=np.array([20,21,22,23,24,25])\n",
        "d=np.divmod(a1,a2)\n",
        "print(d)"
      ],
      "metadata": {
        "colab": {
          "base_uri": "https://localhost:8080/"
        },
        "id": "Fhw_ttCdTYfT",
        "outputId": "423f273f-b09c-45d1-869f-ddac8099fabd"
      },
      "execution_count": null,
      "outputs": [
        {
          "output_type": "stream",
          "name": "stdout",
          "text": [
            "(array([0, 0, 1, 1, 2, 2]), array([10, 20,  8, 17,  2, 10]))\n"
          ]
        }
      ]
    },
    {
      "cell_type": "code",
      "source": [
        "\n",
        "a=1.2\n",
        "print(np.log(a))   #natural log e"
      ],
      "metadata": {
        "colab": {
          "base_uri": "https://localhost:8080/"
        },
        "id": "lhJQZm6gTYjA",
        "outputId": "9bc2a4bb-4658-40c3-d9ba-b77288c7b7b1"
      },
      "execution_count": null,
      "outputs": [
        {
          "output_type": "stream",
          "name": "stdout",
          "text": [
            "0.1823215567939546\n"
          ]
        }
      ]
    },
    {
      "cell_type": "code",
      "source": [
        "a=1.2\n",
        "print(np.log2(a))   #log base"
      ],
      "metadata": {
        "colab": {
          "base_uri": "https://localhost:8080/"
        },
        "id": "td0GYTkaTYmO",
        "outputId": "9955499e-0ae7-40c9-b1e0-e911e97db652"
      },
      "execution_count": null,
      "outputs": [
        {
          "output_type": "stream",
          "name": "stdout",
          "text": [
            "0.2630344058337938\n"
          ]
        }
      ]
    },
    {
      "cell_type": "code",
      "source": [
        "\n",
        "a=1.2\n",
        "print(np.log10(a))    #log base 10"
      ],
      "metadata": {
        "colab": {
          "base_uri": "https://localhost:8080/"
        },
        "id": "KrMg_JQITYqE",
        "outputId": "5296da30-8b97-4936-96f8-ad93e5a01e13"
      },
      "execution_count": null,
      "outputs": [
        {
          "output_type": "stream",
          "name": "stdout",
          "text": [
            "0.07918124604762482\n"
          ]
        }
      ]
    },
    {
      "cell_type": "code",
      "source": [
        "\n",
        "a=np.array([1,1.2,3,4])\n",
        "print(np.log(a))   #natural log e"
      ],
      "metadata": {
        "colab": {
          "base_uri": "https://localhost:8080/"
        },
        "id": "BoN9cL6danno",
        "outputId": "c7775b92-f5e4-4c26-aa91-8492dd8d76f0"
      },
      "execution_count": null,
      "outputs": [
        {
          "output_type": "stream",
          "name": "stdout",
          "text": [
            "[0.         0.18232156 1.09861229 1.38629436]\n"
          ]
        }
      ]
    },
    {
      "cell_type": "code",
      "source": [
        "a1=np.arange(1,10)\n",
        "print(a1)\n",
        "print(np.log10(a1))    #base 10"
      ],
      "metadata": {
        "colab": {
          "base_uri": "https://localhost:8080/"
        },
        "id": "-S5hK5gHanr_",
        "outputId": "6007b30c-3a2c-4179-dad1-6169d3711260"
      },
      "execution_count": null,
      "outputs": [
        {
          "output_type": "stream",
          "name": "stdout",
          "text": [
            "[1 2 3 4 5 6 7 8 9]\n",
            "[0.         0.30103    0.47712125 0.60205999 0.69897    0.77815125\n",
            " 0.84509804 0.90308999 0.95424251]\n"
          ]
        }
      ]
    },
    {
      "cell_type": "code",
      "source": [
        "a1=np.arange(1,10)\n",
        "print(a1)\n",
        "print(np.log2(a1))    #base 2"
      ],
      "metadata": {
        "id": "h0K5vg-Yanxc"
      },
      "execution_count": null,
      "outputs": []
    },
    {
      "cell_type": "code",
      "source": [
        "\n",
        "a2=np.array([5,6,7,10])\n",
        "x=np.cumprod(a2)\n",
        "print(x)"
      ],
      "metadata": {
        "colab": {
          "base_uri": "https://localhost:8080/"
        },
        "id": "JBRs42D7aucp",
        "outputId": "17adc08a-3171-4d1e-893c-52cfead4f276"
      },
      "execution_count": null,
      "outputs": [
        {
          "output_type": "stream",
          "name": "stdout",
          "text": [
            "[   5   30  210 2100]\n"
          ]
        }
      ]
    },
    {
      "cell_type": "code",
      "source": [
        "a2=np.array([5,6,7,10])\n",
        "x=np.cumsum(a2)\n",
        "print(x)\n"
      ],
      "metadata": {
        "colab": {
          "base_uri": "https://localhost:8080/"
        },
        "id": "KGg47wLgayJE",
        "outputId": "2cb2ebf0-33fe-4f0f-9de7-5da399ebf4ec"
      },
      "execution_count": null,
      "outputs": [
        {
          "output_type": "stream",
          "name": "stdout",
          "text": [
            "[ 5 11 18 28]\n"
          ]
        }
      ]
    },
    {
      "cell_type": "code",
      "source": [
        "\n",
        "a1=np.array([10,15,25,15])    #e2-e1\n",
        "newarr=np.diff(a2)\n",
        "print(newarr)\n"
      ],
      "metadata": {
        "colab": {
          "base_uri": "https://localhost:8080/"
        },
        "id": "F4NJtp-XayN6",
        "outputId": "0e5f9671-56fd-4baa-9fe2-bac69111edff"
      },
      "execution_count": null,
      "outputs": [
        {
          "output_type": "stream",
          "name": "stdout",
          "text": [
            "[1 1 3]\n"
          ]
        }
      ]
    },
    {
      "cell_type": "code",
      "source": [
        "\n",
        "num1=455\n",
        "num2=665\n",
        "x=np.lcm(num1,num2)\n",
        "print(x)"
      ],
      "metadata": {
        "colab": {
          "base_uri": "https://localhost:8080/"
        },
        "id": "ryfswt7BayQz",
        "outputId": "b1791bfc-bb09-4b27-bbc5-8c1e9ef13f24"
      },
      "execution_count": null,
      "outputs": [
        {
          "output_type": "stream",
          "name": "stdout",
          "text": [
            "8645\n"
          ]
        }
      ]
    },
    {
      "cell_type": "code",
      "source": [
        "num1=455\n",
        "num2=665\n",
        "x=np.gcd(num1,num2)\n",
        "print(x)"
      ],
      "metadata": {
        "colab": {
          "base_uri": "https://localhost:8080/"
        },
        "id": "Wlc7BAaXa4a7",
        "outputId": "85af8b55-eba3-4c22-e12e-fc0bc05b3a7f"
      },
      "execution_count": null,
      "outputs": [
        {
          "output_type": "stream",
          "name": "stdout",
          "text": [
            "35\n"
          ]
        }
      ]
    },
    {
      "cell_type": "code",
      "source": [
        "\n",
        "a=np.array([12,15,60])\n",
        "gc=np.gcd.reduce(a)    #takes multiple inputs gives single output\n",
        "print(gc)\n"
      ],
      "metadata": {
        "colab": {
          "base_uri": "https://localhost:8080/"
        },
        "id": "CLO-XMvNa4ew",
        "outputId": "f41ead3a-726d-4974-85f0-a4071abb682c"
      },
      "execution_count": null,
      "outputs": [
        {
          "output_type": "stream",
          "name": "stdout",
          "text": [
            "3\n"
          ]
        }
      ]
    },
    {
      "cell_type": "code",
      "source": [
        "\n",
        "a=np.array([12,15,60])\n",
        "lc=np.lcm.reduce(a)    #takes multiple inputs gives single output\n",
        "print(lc)"
      ],
      "metadata": {
        "colab": {
          "base_uri": "https://localhost:8080/"
        },
        "id": "djEoSt9Qa4iJ",
        "outputId": "73e20a0c-4378-4f5e-e312-26c2bf600614"
      },
      "execution_count": null,
      "outputs": [
        {
          "output_type": "stream",
          "name": "stdout",
          "text": [
            "60\n"
          ]
        }
      ]
    }
  ]
}