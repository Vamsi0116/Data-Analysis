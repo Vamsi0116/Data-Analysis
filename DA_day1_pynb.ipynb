{
  "nbformat": 4,
  "nbformat_minor": 0,
  "metadata": {
    "colab": {
      "provenance": []
    },
    "kernelspec": {
      "name": "python3",
      "display_name": "Python 3"
    },
    "language_info": {
      "name": "python"
    }
  },
  "cells": [
    {
      "cell_type": "code",
      "execution_count": null,
      "metadata": {
        "colab": {
          "base_uri": "https://localhost:8080/"
        },
        "id": "bXBea9sRrE5u",
        "outputId": "4f586762-8112-4cee-cf19-cade0eaf20fe"
      },
      "outputs": [
        {
          "output_type": "stream",
          "name": "stdout",
          "text": [
            "I am 5 years old\n"
          ]
        }
      ],
      "source": [
        "#Variable and Print\n",
        "a=5\n",
        "print(\"I am\",a,\"years old\")"
      ]
    },
    {
      "cell_type": "markdown",
      "source": [
        "Operators"
      ],
      "metadata": {
        "id": "LmGQ4zLcr2vZ"
      }
    },
    {
      "cell_type": "code",
      "source": [
        "#arithmetic\n",
        "a=5\n",
        "b=25\n",
        "print(a+b)"
      ],
      "metadata": {
        "colab": {
          "base_uri": "https://localhost:8080/"
        },
        "id": "cnkKs3rXr9xI",
        "outputId": "2e92519c-e028-44d6-cd3f-d661a7ef7053"
      },
      "execution_count": null,
      "outputs": [
        {
          "output_type": "stream",
          "name": "stdout",
          "text": [
            "30\n"
          ]
        }
      ]
    },
    {
      "cell_type": "code",
      "source": [
        "#power\n",
        "print(2**5)"
      ],
      "metadata": {
        "colab": {
          "base_uri": "https://localhost:8080/"
        },
        "id": "QNk8XNR1sma0",
        "outputId": "6402d173-8b0d-4566-af58-4510b809dffd"
      },
      "execution_count": null,
      "outputs": [
        {
          "output_type": "stream",
          "name": "stdout",
          "text": [
            "32\n"
          ]
        }
      ]
    },
    {
      "cell_type": "code",
      "source": [
        "#floor div\n",
        "print(25//2)"
      ],
      "metadata": {
        "colab": {
          "base_uri": "https://localhost:8080/"
        },
        "id": "BF_Nf8JQswqm",
        "outputId": "201154d0-6d52-4547-bdfc-dc2cc43fb0d6"
      },
      "execution_count": null,
      "outputs": [
        {
          "output_type": "stream",
          "name": "stdout",
          "text": [
            "12\n"
          ]
        }
      ]
    },
    {
      "cell_type": "code",
      "source": [
        "#relaional\n",
        "a=6\n",
        "b=6\n",
        "print(a==b)\n",
        "print(a>b)\n",
        "print(a<b)\n",
        "print(a!=b)"
      ],
      "metadata": {
        "colab": {
          "base_uri": "https://localhost:8080/"
        },
        "id": "RQeFPH9ys_HY",
        "outputId": "a1f6cd5c-6270-4400-f6f8-c25b18dacf29"
      },
      "execution_count": null,
      "outputs": [
        {
          "output_type": "stream",
          "name": "stdout",
          "text": [
            "True\n",
            "False\n",
            "False\n",
            "False\n"
          ]
        }
      ]
    },
    {
      "cell_type": "code",
      "source": [
        "#logical\n",
        "a=9\n",
        "b=25\n",
        "print((a>b and a<b))  #true or false\n",
        "print((a>b or a<b))"
      ],
      "metadata": {
        "colab": {
          "base_uri": "https://localhost:8080/"
        },
        "id": "KPmtX7JsuJYE",
        "outputId": "1d77df35-3b97-485a-d70c-f7e714cbd4c0"
      },
      "execution_count": null,
      "outputs": [
        {
          "output_type": "stream",
          "name": "stdout",
          "text": [
            "False\n",
            "True\n"
          ]
        }
      ]
    },
    {
      "cell_type": "code",
      "source": [
        "\n",
        "a=\"pirate\"\n",
        "print(\"a\" not in a)\n",
        "print(\"a\" in a)"
      ],
      "metadata": {
        "colab": {
          "base_uri": "https://localhost:8080/",
          "height": 106
        },
        "id": "Nx3smE87pnMI",
        "outputId": "fc450627-40c5-49a4-ed5a-6acf9fb139ca"
      },
      "execution_count": null,
      "outputs": [
        {
          "output_type": "error",
          "ename": "SyntaxError",
          "evalue": "invalid syntax (<ipython-input-1-d8141406060f>, line 1)",
          "traceback": [
            "\u001b[0;36m  File \u001b[0;32m\"<ipython-input-1-d8141406060f>\"\u001b[0;36m, line \u001b[0;32m1\u001b[0m\n\u001b[0;31m    1.2.5 Membership\u001b[0m\n\u001b[0m       ^\u001b[0m\n\u001b[0;31mSyntaxError\u001b[0m\u001b[0;31m:\u001b[0m invalid syntax\n"
          ]
        }
      ]
    },
    {
      "cell_type": "markdown",
      "source": [
        "control flow"
      ],
      "metadata": {
        "id": "qHtFA2hYvNtu"
      }
    },
    {
      "cell_type": "code",
      "source": [
        "a=int(input(\"enter a number:\"))\n",
        "if a>0:\n",
        "  print(a,\"is positive\")\n"
      ],
      "metadata": {
        "id": "Kp7HpBmRz8Ew"
      },
      "execution_count": null,
      "outputs": []
    },
    {
      "cell_type": "code",
      "source": [
        "a=int(input(\"enter a number:\"))\n",
        "if(a>0):\n",
        "  print(\"a is positive\")\n",
        "else:\n",
        "  print(\"a is negative\")\n"
      ],
      "metadata": {
        "id": "vZhOZ6ME0Ny7"
      },
      "execution_count": null,
      "outputs": []
    },
    {
      "cell_type": "code",
      "source": [
        "#conditional if\n",
        "#write a program to get a number from the user and check whether it is positive or negative\n",
        "a=int(input(\"Enter a number:\"))\n",
        "if (a>0):\n",
        "  print(a,\"is positive\")\n",
        "elif (a==0):\n",
        "  print(\"it is non negative nor positive\")\n",
        "else:\n",
        "  print(a,\"is negative\")\n",
        "print(type(a))\n",
        "\n",
        "\n"
      ],
      "metadata": {
        "colab": {
          "base_uri": "https://localhost:8080/"
        },
        "id": "1CFZjGSFvR6i",
        "outputId": "7bc9bd05-f347-42e3-abb6-1fec5036a09c"
      },
      "execution_count": null,
      "outputs": [
        {
          "output_type": "stream",
          "name": "stdout",
          "text": [
            "Enter a number:89\n",
            "89 is positive\n",
            "<class 'int'>\n"
          ]
        }
      ]
    },
    {
      "cell_type": "markdown",
      "source": [
        "For loop"
      ],
      "metadata": {
        "id": "Rhfy7DYR0o-M"
      }
    },
    {
      "cell_type": "code",
      "source": [
        "a=4\n",
        "for i in range(1,11,1):\n",
        "  x=a*i\n",
        "  print(a,\"*\",i,\"=\",x)\n",
        "\n"
      ],
      "metadata": {
        "colab": {
          "base_uri": "https://localhost:8080/"
        },
        "id": "28wpjgMA0uvC",
        "outputId": "8b196029-6a2d-4f1b-a479-c8ea99151c98"
      },
      "execution_count": null,
      "outputs": [
        {
          "output_type": "stream",
          "name": "stdout",
          "text": [
            "4 * 1 = 4\n",
            "4 * 2 = 8\n",
            "4 * 3 = 12\n",
            "4 * 4 = 16\n",
            "4 * 5 = 20\n",
            "4 * 6 = 24\n",
            "4 * 7 = 28\n",
            "4 * 8 = 32\n",
            "4 * 9 = 36\n",
            "4 * 10 = 40\n"
          ]
        }
      ]
    },
    {
      "cell_type": "code",
      "source": [
        "a=int(input(\"enter a number:\"))\n",
        "i=1\n",
        "while(i<=10):\n",
        "  n=a*i\n",
        "  print(n)\n",
        "  i=i+1\n"
      ],
      "metadata": {
        "id": "HPsmpOwh09Qa"
      },
      "execution_count": null,
      "outputs": []
    },
    {
      "cell_type": "markdown",
      "source": [
        "type casting"
      ],
      "metadata": {
        "id": "h0LkvBls3w8Y"
      }
    },
    {
      "cell_type": "code",
      "source": [
        "a=\"Python is easy\"\n",
        "print(a[0:6]) #start:stop:step"
      ],
      "metadata": {
        "id": "jJziGrUM1Ksn"
      },
      "execution_count": null,
      "outputs": []
    },
    {
      "cell_type": "code",
      "source": [
        "\n",
        "a=\"Python is easy\"\n",
        "print(a[::-1]) #start:stop:step\n"
      ],
      "metadata": {
        "id": "jt8GQ4w71TBz"
      },
      "execution_count": null,
      "outputs": []
    },
    {
      "cell_type": "code",
      "source": [
        "a=\"Python is easy\"\n",
        "print(a[::2])#start:stop:2\n"
      ],
      "metadata": {
        "id": "VHs4u2O_1fFg"
      },
      "execution_count": null,
      "outputs": []
    },
    {
      "cell_type": "code",
      "source": [
        "a=12.6 #float\n",
        "b=4 #int\n",
        "print(a*b) #interpreter automatically taken the output as float\n"
      ],
      "metadata": {
        "id": "MfTJLUdl1ma5"
      },
      "execution_count": null,
      "outputs": []
    },
    {
      "cell_type": "code",
      "source": [
        "#type casting\n",
        "a=5\n",
        "b=5.87\n",
        "print(a*b) #interpreter automaically assign float is called implicit"
      ],
      "metadata": {
        "colab": {
          "base_uri": "https://localhost:8080/"
        },
        "id": "f-AAgN2F37r4",
        "outputId": "507810b1-6508-49e4-99ce-b60c77d57bbf"
      },
      "execution_count": null,
      "outputs": [
        {
          "output_type": "stream",
          "name": "stdout",
          "text": [
            "29.35\n"
          ]
        }
      ]
    },
    {
      "cell_type": "code",
      "source": [
        "a=12.6 #float\n",
        "b=4 #int\n",
        "print(int(a*b)) #user\n"
      ],
      "metadata": {
        "id": "NLfeW2T-1tGS"
      },
      "execution_count": null,
      "outputs": []
    },
    {
      "cell_type": "code",
      "source": [
        "a=\"45\"\n",
        "a=int(a)\n",
        "print(type(a))\n"
      ],
      "metadata": {
        "id": "lSBoB6bv1zEG"
      },
      "execution_count": null,
      "outputs": []
    },
    {
      "cell_type": "code",
      "source": [
        "list=[1,\"akhi\",3,4,\"sasi\",6]\n",
        "print(list)\n"
      ],
      "metadata": {
        "id": "VFvdLOhQ161g"
      },
      "execution_count": null,
      "outputs": []
    },
    {
      "cell_type": "code",
      "source": [
        "s1=[34,\"sasi\",123,149,\"sri\"]\n",
        "for i in l1:\n",
        "  print(i)\n"
      ],
      "metadata": {
        "id": "lwvOxJF72DEr"
      },
      "execution_count": null,
      "outputs": []
    },
    {
      "cell_type": "code",
      "source": [
        "l1=[1,2,6]\n",
        "l2=[1,4,9]\n",
        "l1.append(l2)\n",
        "print(l1)\n"
      ],
      "metadata": {
        "id": "Qp9MmUIF2LHr"
      },
      "execution_count": null,
      "outputs": []
    },
    {
      "cell_type": "code",
      "source": [
        "a=5\n",
        "b=5.87\n",
        "print(int(a*b))"
      ],
      "metadata": {
        "colab": {
          "base_uri": "https://localhost:8080/"
        },
        "id": "XPVr60kx48yF",
        "outputId": "9da633a7-6917-4daa-f824-9df7f1686302"
      },
      "execution_count": null,
      "outputs": [
        {
          "output_type": "stream",
          "name": "stdout",
          "text": [
            "29\n"
          ]
        }
      ]
    },
    {
      "cell_type": "markdown",
      "source": [
        "data slicing"
      ],
      "metadata": {
        "id": "LHSfam515Iab"
      }
    },
    {
      "cell_type": "code",
      "source": [
        "a=\"Pyhon is best\"\n",
        "print(a[0:6])"
      ],
      "metadata": {
        "colab": {
          "base_uri": "https://localhost:8080/"
        },
        "id": "vOP9Tz5e5MHj",
        "outputId": "8957d5f6-bc66-4c0a-ae91-6aa400e6309d"
      },
      "execution_count": null,
      "outputs": [
        {
          "output_type": "stream",
          "name": "stdout",
          "text": [
            "Pyhon \n"
          ]
        }
      ]
    },
    {
      "cell_type": "code",
      "source": [
        "a=\"Pyhon is best\"\n",
        "print(a[::-1])"
      ],
      "metadata": {
        "colab": {
          "base_uri": "https://localhost:8080/"
        },
        "id": "Jk-DSxuU50p4",
        "outputId": "3288b57e-18bc-482c-af91-1432734811cf"
      },
      "execution_count": null,
      "outputs": [
        {
          "output_type": "stream",
          "name": "stdout",
          "text": [
            "tseb si nohyP\n"
          ]
        }
      ]
    },
    {
      "cell_type": "code",
      "source": [
        "a=\"Pyhon is best\"\n",
        "print(a[::2])"
      ],
      "metadata": {
        "colab": {
          "base_uri": "https://localhost:8080/"
        },
        "id": "12HrdB305_h1",
        "outputId": "3427d969-9755-424e-e95d-7857d388942b"
      },
      "execution_count": null,
      "outputs": [
        {
          "output_type": "stream",
          "name": "stdout",
          "text": [
            "Phni et\n"
          ]
        }
      ]
    },
    {
      "cell_type": "code",
      "source": [
        "n=4\n",
        "x=10\n",
        "i=0\n",
        "while(i<=x):\n",
        "\n",
        "  print(n*i)\n",
        "  i=i+1\n",
        "\n",
        "\n",
        "\n"
      ],
      "metadata": {
        "colab": {
          "base_uri": "https://localhost:8080/"
        },
        "id": "wu1AWkRp6K0E",
        "outputId": "6f0db8fb-ad5c-453e-952f-63834cb3150f"
      },
      "execution_count": null,
      "outputs": [
        {
          "output_type": "stream",
          "name": "stdout",
          "text": [
            "0\n",
            "4\n",
            "8\n",
            "12\n",
            "16\n",
            "20\n",
            "24\n",
            "28\n",
            "32\n",
            "36\n",
            "40\n"
          ]
        }
      ]
    },
    {
      "cell_type": "markdown",
      "source": [
        "Collections :\n",
        "List:\n",
        "- List is a collection of elements\n",
        "- heterogenious\n",
        "- Mutable (modifiable)"
      ],
      "metadata": {
        "id": "6TZfqOPm9mV8"
      }
    },
    {
      "cell_type": "code",
      "source": [
        "s=[34,\"anaconda\",97.8,68]\n",
        "print(s)"
      ],
      "metadata": {
        "colab": {
          "base_uri": "https://localhost:8080/"
        },
        "id": "2Al715Oi-hWj",
        "outputId": "0a812243-f946-4f7e-d895-ec92d003876a"
      },
      "execution_count": null,
      "outputs": [
        {
          "output_type": "stream",
          "name": "stdout",
          "text": [
            "[34, 'anaconda', 97.8, 68]\n"
          ]
        }
      ]
    },
    {
      "cell_type": "code",
      "source": [
        "s=[34,\"anaconda\",97.8,68]\n",
        "for i in s:\n",
        "  print(i)\n",
        "s.append(\"lmao\")\n",
        "print(s)\n"
      ],
      "metadata": {
        "colab": {
          "base_uri": "https://localhost:8080/"
        },
        "id": "jiED0H7j-4vf",
        "outputId": "6a99a374-d8ed-4b94-96fa-83f63dd82b12"
      },
      "execution_count": null,
      "outputs": [
        {
          "output_type": "stream",
          "name": "stdout",
          "text": [
            "34\n",
            "anaconda\n",
            "97.8\n",
            "68\n",
            "[34, 'anaconda', 97.8, 68, 'lmao']\n"
          ]
        }
      ]
    },
    {
      "cell_type": "code",
      "source": [
        "s.insert(3,\"middle\")\n",
        "print(s)"
      ],
      "metadata": {
        "colab": {
          "base_uri": "https://localhost:8080/"
        },
        "id": "U7jPGMixAqPG",
        "outputId": "98bf4dee-379b-480f-d71f-58a2afb0956c"
      },
      "execution_count": null,
      "outputs": [
        {
          "output_type": "stream",
          "name": "stdout",
          "text": [
            "[34, 'anaconda', 97.8, 'middle', 68, 'lmao']\n"
          ]
        }
      ]
    },
    {
      "cell_type": "code",
      "source": [
        "#extend\n",
        "s1=[\"hi\",97,\"i am speed\"]\n",
        "s.extend(s1)\n",
        "print(s)"
      ],
      "metadata": {
        "colab": {
          "base_uri": "https://localhost:8080/"
        },
        "id": "ngMDngmyBmkY",
        "outputId": "3a4f56a7-e3a7-45a7-e09a-b20dec7ceba6"
      },
      "execution_count": null,
      "outputs": [
        {
          "output_type": "stream",
          "name": "stdout",
          "text": [
            "[34, 'anaconda', 97.8, 'middle', 68, 'lmao', 'hi', 97, 'i am speed', 'hi', 97, 'i am speed', 'hi', 97, 'i am speed']\n"
          ]
        }
      ]
    },
    {
      "cell_type": "code",
      "source": [
        "l1=[\"hi\"]\n",
        "l2=[\"v1\"]\n",
        "l1.extend(l2)\n",
        "print(l1)"
      ],
      "metadata": {
        "colab": {
          "base_uri": "https://localhost:8080/"
        },
        "id": "IqEgZhOsC2vQ",
        "outputId": "8ab4aa69-24bf-4736-87fb-c63efc2c8884"
      },
      "execution_count": null,
      "outputs": [
        {
          "output_type": "stream",
          "name": "stdout",
          "text": [
            "['hi', 'v1']\n"
          ]
        }
      ]
    },
    {
      "cell_type": "code",
      "source": [
        "\n",
        "\n",
        "print(l1)\n",
        "l1.pop(0)\n",
        "print(l1)\n"
      ],
      "metadata": {
        "colab": {
          "base_uri": "https://localhost:8080/"
        },
        "id": "3QzMVfMEDpNa",
        "outputId": "6659a0b3-9355-47d5-9ec2-ad08286bbab4"
      },
      "execution_count": null,
      "outputs": [
        {
          "output_type": "stream",
          "name": "stdout",
          "text": [
            "['hi']\n",
            "[]\n"
          ]
        }
      ]
    },
    {
      "cell_type": "code",
      "source": [
        "l3=[45,56,67.7,45.4]\n",
        "\n",
        "print(max(l3))"
      ],
      "metadata": {
        "colab": {
          "base_uri": "https://localhost:8080/"
        },
        "id": "GkqALDgmEjD3",
        "outputId": "44761dfb-bb35-4b4e-eb24-f15a7a7241a6"
      },
      "execution_count": null,
      "outputs": [
        {
          "output_type": "stream",
          "name": "stdout",
          "text": [
            "67.7\n"
          ]
        }
      ]
    },
    {
      "cell_type": "markdown",
      "source": [
        "list comprehension:\n",
        "- Iterator\n",
        "- applies some funcion on every element\n",
        "- conditions\n",
        "-output : list"
      ],
      "metadata": {
        "id": "7aniuIIgE1Xr"
      }
    },
    {
      "cell_type": "code",
      "source": [
        "l1=[45,35,75,32]\n",
        "l2=[i**2 for i in l1]  #output iterate\n",
        "print(l2)"
      ],
      "metadata": {
        "colab": {
          "base_uri": "https://localhost:8080/"
        },
        "id": "Tn0SyU9gFi7y",
        "outputId": "e1e499e9-7687-4073-ff73-7f0f26ca9cd9"
      },
      "execution_count": null,
      "outputs": [
        {
          "output_type": "stream",
          "name": "stdout",
          "text": [
            "[2025, 1225, 5625, 1024]\n"
          ]
        }
      ]
    },
    {
      "cell_type": "code",
      "source": [],
      "metadata": {
        "colab": {
          "base_uri": "https://localhost:8080/"
        },
        "id": "vHYgXXTWGWTP",
        "outputId": "ad21710f-1703-47bc-82c6-b042d6b6563b"
      },
      "execution_count": null,
      "outputs": [
        {
          "output_type": "stream",
          "name": "stdout",
          "text": [
            "[5625]\n"
          ]
        }
      ]
    },
    {
      "cell_type": "code",
      "source": [],
      "metadata": {
        "id": "Sy20Tk6rLbjS"
      },
      "execution_count": null,
      "outputs": []
    },
    {
      "cell_type": "code",
      "source": [
        "sal=[67000,45000,89000,34000,50000]\n",
        "tax=[]\n",
        "for i in sal:\n",
        "  if i<=50000:\n",
        "    =i*0.1"
      ],
      "metadata": {
        "id": "W7okxB2rJ64v"
      },
      "execution_count": null,
      "outputs": []
    }
  ]
}